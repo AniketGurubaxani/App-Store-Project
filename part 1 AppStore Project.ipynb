{
 "cells": [
  {
   "cell_type": "markdown",
   "id": "abddb9d7-97f9-4ad7-bfe8-66b0c2414af9",
   "metadata": {},
   "source": [
    "# <font color = green> *Part 1* </font>\n",
    "#### <font color = blue> *EDA & Data Preprocessing on Google App Store Rating dataset.* </font>"
   ]
  },
  {
   "cell_type": "markdown",
   "id": "bb506239-8916-4120-b9b5-1ac3166d3433",
   "metadata": {},
   "source": [
    "#### 1. Import required libraries and read the dataset."
   ]
  },
  {
   "cell_type": "code",
   "execution_count": 18,
   "id": "554a9f08-f25b-4b45-b098-43c7e6a1ef25",
   "metadata": {
    "tags": []
   },
   "outputs": [],
   "source": [
    "# Importing liabraries\n",
    "import numpy as np\n",
    "import pandas as pd\n",
    "import matplotlib.pyplot as plt\n",
    "%matplotlib inline\n",
    "import seaborn as sns"
   ]
  },
  {
   "cell_type": "code",
   "execution_count": 19,
   "id": "8e6c1f84-4336-4a73-8c89-badb8ecd7ed4",
   "metadata": {
    "tags": []
   },
   "outputs": [],
   "source": [
    "# Loading Dataset\n",
    "df = pd.read_csv(\"Apps_data.csv\")"
   ]
  },
  {
   "cell_type": "markdown",
   "id": "516bc58c-9de6-44c6-ae05-49ec6962c944",
   "metadata": {},
   "source": [
    "#### 2. Check the first few samples, shape, info of the data and try to familiarize yourself with different features."
   ]
  },
  {
   "cell_type": "code",
   "execution_count": 20,
   "id": "06827684-3de5-4d11-8d5d-2f21f2d4c58e",
   "metadata": {
    "tags": []
   },
   "outputs": [
    {
     "data": {
      "text/html": [
       "<div>\n",
       "<style scoped>\n",
       "    .dataframe tbody tr th:only-of-type {\n",
       "        vertical-align: middle;\n",
       "    }\n",
       "\n",
       "    .dataframe tbody tr th {\n",
       "        vertical-align: top;\n",
       "    }\n",
       "\n",
       "    .dataframe thead th {\n",
       "        text-align: right;\n",
       "    }\n",
       "</style>\n",
       "<table border=\"1\" class=\"dataframe\">\n",
       "  <thead>\n",
       "    <tr style=\"text-align: right;\">\n",
       "      <th></th>\n",
       "      <th>App</th>\n",
       "      <th>Category</th>\n",
       "      <th>Rating</th>\n",
       "      <th>Reviews</th>\n",
       "      <th>Size</th>\n",
       "      <th>Installs</th>\n",
       "      <th>Type</th>\n",
       "      <th>Price</th>\n",
       "      <th>Content Rating</th>\n",
       "      <th>Genres</th>\n",
       "      <th>Last Updated</th>\n",
       "      <th>Current Ver</th>\n",
       "      <th>Android Ver</th>\n",
       "    </tr>\n",
       "  </thead>\n",
       "  <tbody>\n",
       "    <tr>\n",
       "      <th>0</th>\n",
       "      <td>Photo Editor &amp; Candy Camera &amp; Grid &amp; ScrapBook</td>\n",
       "      <td>ART_AND_DESIGN</td>\n",
       "      <td>4.1</td>\n",
       "      <td>159</td>\n",
       "      <td>19M</td>\n",
       "      <td>10,000+</td>\n",
       "      <td>Free</td>\n",
       "      <td>0</td>\n",
       "      <td>Everyone</td>\n",
       "      <td>Art &amp; Design</td>\n",
       "      <td>January 7, 2018</td>\n",
       "      <td>1.0.0</td>\n",
       "      <td>4.0.3 and up</td>\n",
       "    </tr>\n",
       "    <tr>\n",
       "      <th>1</th>\n",
       "      <td>Coloring book moana</td>\n",
       "      <td>ART_AND_DESIGN</td>\n",
       "      <td>3.9</td>\n",
       "      <td>967</td>\n",
       "      <td>14M</td>\n",
       "      <td>500,000+</td>\n",
       "      <td>Free</td>\n",
       "      <td>0</td>\n",
       "      <td>Everyone</td>\n",
       "      <td>Art &amp; Design;Pretend Play</td>\n",
       "      <td>January 15, 2018</td>\n",
       "      <td>2.0.0</td>\n",
       "      <td>4.0.3 and up</td>\n",
       "    </tr>\n",
       "    <tr>\n",
       "      <th>2</th>\n",
       "      <td>U Launcher Lite – FREE Live Cool Themes, Hide ...</td>\n",
       "      <td>ART_AND_DESIGN</td>\n",
       "      <td>4.7</td>\n",
       "      <td>87510</td>\n",
       "      <td>8.7M</td>\n",
       "      <td>5,000,000+</td>\n",
       "      <td>Free</td>\n",
       "      <td>0</td>\n",
       "      <td>Everyone</td>\n",
       "      <td>Art &amp; Design</td>\n",
       "      <td>August 1, 2018</td>\n",
       "      <td>1.2.4</td>\n",
       "      <td>4.0.3 and up</td>\n",
       "    </tr>\n",
       "    <tr>\n",
       "      <th>3</th>\n",
       "      <td>Sketch - Draw &amp; Paint</td>\n",
       "      <td>ART_AND_DESIGN</td>\n",
       "      <td>4.5</td>\n",
       "      <td>215644</td>\n",
       "      <td>25M</td>\n",
       "      <td>50,000,000+</td>\n",
       "      <td>Free</td>\n",
       "      <td>0</td>\n",
       "      <td>Teen</td>\n",
       "      <td>Art &amp; Design</td>\n",
       "      <td>June 8, 2018</td>\n",
       "      <td>Varies with device</td>\n",
       "      <td>4.2 and up</td>\n",
       "    </tr>\n",
       "    <tr>\n",
       "      <th>4</th>\n",
       "      <td>Pixel Draw - Number Art Coloring Book</td>\n",
       "      <td>ART_AND_DESIGN</td>\n",
       "      <td>4.3</td>\n",
       "      <td>967</td>\n",
       "      <td>2.8M</td>\n",
       "      <td>100,000+</td>\n",
       "      <td>Free</td>\n",
       "      <td>0</td>\n",
       "      <td>Everyone</td>\n",
       "      <td>Art &amp; Design;Creativity</td>\n",
       "      <td>June 20, 2018</td>\n",
       "      <td>1.1</td>\n",
       "      <td>4.4 and up</td>\n",
       "    </tr>\n",
       "  </tbody>\n",
       "</table>\n",
       "</div>"
      ],
      "text/plain": [
       "                                                 App        Category  Rating  \\\n",
       "0     Photo Editor & Candy Camera & Grid & ScrapBook  ART_AND_DESIGN     4.1   \n",
       "1                                Coloring book moana  ART_AND_DESIGN     3.9   \n",
       "2  U Launcher Lite – FREE Live Cool Themes, Hide ...  ART_AND_DESIGN     4.7   \n",
       "3                              Sketch - Draw & Paint  ART_AND_DESIGN     4.5   \n",
       "4              Pixel Draw - Number Art Coloring Book  ART_AND_DESIGN     4.3   \n",
       "\n",
       "  Reviews  Size     Installs  Type Price Content Rating  \\\n",
       "0     159   19M      10,000+  Free     0       Everyone   \n",
       "1     967   14M     500,000+  Free     0       Everyone   \n",
       "2   87510  8.7M   5,000,000+  Free     0       Everyone   \n",
       "3  215644   25M  50,000,000+  Free     0           Teen   \n",
       "4     967  2.8M     100,000+  Free     0       Everyone   \n",
       "\n",
       "                      Genres      Last Updated         Current Ver  \\\n",
       "0               Art & Design   January 7, 2018               1.0.0   \n",
       "1  Art & Design;Pretend Play  January 15, 2018               2.0.0   \n",
       "2               Art & Design    August 1, 2018               1.2.4   \n",
       "3               Art & Design      June 8, 2018  Varies with device   \n",
       "4    Art & Design;Creativity     June 20, 2018                 1.1   \n",
       "\n",
       "    Android Ver  \n",
       "0  4.0.3 and up  \n",
       "1  4.0.3 and up  \n",
       "2  4.0.3 and up  \n",
       "3    4.2 and up  \n",
       "4    4.4 and up  "
      ]
     },
     "execution_count": 20,
     "metadata": {},
     "output_type": "execute_result"
    }
   ],
   "source": [
    "# Top 5 rows\n",
    "df.head(5)"
   ]
  },
  {
   "cell_type": "code",
   "execution_count": 21,
   "id": "e4070e97-00d0-46b6-9924-95b8daa6f2ea",
   "metadata": {
    "tags": []
   },
   "outputs": [
    {
     "data": {
      "text/plain": [
       "(10841, 13)"
      ]
     },
     "execution_count": 21,
     "metadata": {},
     "output_type": "execute_result"
    }
   ],
   "source": [
    "# checking shape of dataset\n",
    "# Dataset having 10841 rows and 13 columns.\n",
    "df.shape"
   ]
  },
  {
   "cell_type": "code",
   "execution_count": 22,
   "id": "6cb859b2-be1f-47b5-945f-19af57fa3a69",
   "metadata": {
    "tags": []
   },
   "outputs": [
    {
     "name": "stdout",
     "output_type": "stream",
     "text": [
      "<class 'pandas.core.frame.DataFrame'>\n",
      "RangeIndex: 10841 entries, 0 to 10840\n",
      "Data columns (total 13 columns):\n",
      " #   Column          Non-Null Count  Dtype  \n",
      "---  ------          --------------  -----  \n",
      " 0   App             10841 non-null  object \n",
      " 1   Category        10841 non-null  object \n",
      " 2   Rating          9367 non-null   float64\n",
      " 3   Reviews         10841 non-null  object \n",
      " 4   Size            10841 non-null  object \n",
      " 5   Installs        10841 non-null  object \n",
      " 6   Type            10840 non-null  object \n",
      " 7   Price           10841 non-null  object \n",
      " 8   Content Rating  10840 non-null  object \n",
      " 9   Genres          10841 non-null  object \n",
      " 10  Last Updated    10841 non-null  object \n",
      " 11  Current Ver     10833 non-null  object \n",
      " 12  Android Ver     10838 non-null  object \n",
      "dtypes: float64(1), object(12)\n",
      "memory usage: 1.1+ MB\n"
     ]
    }
   ],
   "source": [
    "# Information of dataset\n",
    "df.info()"
   ]
  },
  {
   "cell_type": "markdown",
   "id": "722ba92c-e0c6-42f3-8ca5-3372c64af6ad",
   "metadata": {},
   "source": [
    "- Only \"Rating\" column is of \"float\" datatype.\n",
    "- Remainging are of \"object\" datatype.\n",
    "- There are also missing values present in some columns. "
   ]
  },
  {
   "cell_type": "markdown",
   "id": "2f06f0ac-6de5-46d5-a306-944878f3ec84",
   "metadata": {},
   "source": [
    "#### 3. Check summary statistics of the dataset. List out the columns that need to be worked upon for model building."
   ]
  },
  {
   "cell_type": "code",
   "execution_count": 23,
   "id": "69aaa445-69c9-4a14-835c-ff22e7366ef1",
   "metadata": {
    "tags": []
   },
   "outputs": [
    {
     "data": {
      "text/html": [
       "<div>\n",
       "<style scoped>\n",
       "    .dataframe tbody tr th:only-of-type {\n",
       "        vertical-align: middle;\n",
       "    }\n",
       "\n",
       "    .dataframe tbody tr th {\n",
       "        vertical-align: top;\n",
       "    }\n",
       "\n",
       "    .dataframe thead th {\n",
       "        text-align: right;\n",
       "    }\n",
       "</style>\n",
       "<table border=\"1\" class=\"dataframe\">\n",
       "  <thead>\n",
       "    <tr style=\"text-align: right;\">\n",
       "      <th></th>\n",
       "      <th>Rating</th>\n",
       "    </tr>\n",
       "  </thead>\n",
       "  <tbody>\n",
       "    <tr>\n",
       "      <th>count</th>\n",
       "      <td>9367.000000</td>\n",
       "    </tr>\n",
       "    <tr>\n",
       "      <th>mean</th>\n",
       "      <td>4.193338</td>\n",
       "    </tr>\n",
       "    <tr>\n",
       "      <th>std</th>\n",
       "      <td>0.537431</td>\n",
       "    </tr>\n",
       "    <tr>\n",
       "      <th>min</th>\n",
       "      <td>1.000000</td>\n",
       "    </tr>\n",
       "    <tr>\n",
       "      <th>25%</th>\n",
       "      <td>4.000000</td>\n",
       "    </tr>\n",
       "    <tr>\n",
       "      <th>50%</th>\n",
       "      <td>4.300000</td>\n",
       "    </tr>\n",
       "    <tr>\n",
       "      <th>75%</th>\n",
       "      <td>4.500000</td>\n",
       "    </tr>\n",
       "    <tr>\n",
       "      <th>max</th>\n",
       "      <td>19.000000</td>\n",
       "    </tr>\n",
       "  </tbody>\n",
       "</table>\n",
       "</div>"
      ],
      "text/plain": [
       "            Rating\n",
       "count  9367.000000\n",
       "mean      4.193338\n",
       "std       0.537431\n",
       "min       1.000000\n",
       "25%       4.000000\n",
       "50%       4.300000\n",
       "75%       4.500000\n",
       "max      19.000000"
      ]
     },
     "execution_count": 23,
     "metadata": {},
     "output_type": "execute_result"
    }
   ],
   "source": [
    "df.describe()"
   ]
  },
  {
   "cell_type": "code",
   "execution_count": 24,
   "id": "77f5729d-aefb-4989-84db-a19baaa762d4",
   "metadata": {
    "tags": []
   },
   "outputs": [
    {
     "data": {
      "text/html": [
       "<div>\n",
       "<style scoped>\n",
       "    .dataframe tbody tr th:only-of-type {\n",
       "        vertical-align: middle;\n",
       "    }\n",
       "\n",
       "    .dataframe tbody tr th {\n",
       "        vertical-align: top;\n",
       "    }\n",
       "\n",
       "    .dataframe thead th {\n",
       "        text-align: right;\n",
       "    }\n",
       "</style>\n",
       "<table border=\"1\" class=\"dataframe\">\n",
       "  <thead>\n",
       "    <tr style=\"text-align: right;\">\n",
       "      <th></th>\n",
       "      <th>App</th>\n",
       "      <th>Category</th>\n",
       "      <th>Reviews</th>\n",
       "      <th>Size</th>\n",
       "      <th>Installs</th>\n",
       "      <th>Type</th>\n",
       "      <th>Price</th>\n",
       "      <th>Content Rating</th>\n",
       "      <th>Genres</th>\n",
       "      <th>Last Updated</th>\n",
       "      <th>Current Ver</th>\n",
       "      <th>Android Ver</th>\n",
       "    </tr>\n",
       "  </thead>\n",
       "  <tbody>\n",
       "    <tr>\n",
       "      <th>count</th>\n",
       "      <td>10841</td>\n",
       "      <td>10841</td>\n",
       "      <td>10841</td>\n",
       "      <td>10841</td>\n",
       "      <td>10841</td>\n",
       "      <td>10840</td>\n",
       "      <td>10841</td>\n",
       "      <td>10840</td>\n",
       "      <td>10841</td>\n",
       "      <td>10841</td>\n",
       "      <td>10833</td>\n",
       "      <td>10838</td>\n",
       "    </tr>\n",
       "    <tr>\n",
       "      <th>unique</th>\n",
       "      <td>9660</td>\n",
       "      <td>34</td>\n",
       "      <td>6002</td>\n",
       "      <td>462</td>\n",
       "      <td>22</td>\n",
       "      <td>3</td>\n",
       "      <td>93</td>\n",
       "      <td>6</td>\n",
       "      <td>120</td>\n",
       "      <td>1378</td>\n",
       "      <td>2832</td>\n",
       "      <td>33</td>\n",
       "    </tr>\n",
       "    <tr>\n",
       "      <th>top</th>\n",
       "      <td>ROBLOX</td>\n",
       "      <td>FAMILY</td>\n",
       "      <td>0</td>\n",
       "      <td>Varies with device</td>\n",
       "      <td>1,000,000+</td>\n",
       "      <td>Free</td>\n",
       "      <td>0</td>\n",
       "      <td>Everyone</td>\n",
       "      <td>Tools</td>\n",
       "      <td>August 3, 2018</td>\n",
       "      <td>Varies with device</td>\n",
       "      <td>4.1 and up</td>\n",
       "    </tr>\n",
       "    <tr>\n",
       "      <th>freq</th>\n",
       "      <td>9</td>\n",
       "      <td>1972</td>\n",
       "      <td>596</td>\n",
       "      <td>1695</td>\n",
       "      <td>1579</td>\n",
       "      <td>10039</td>\n",
       "      <td>10040</td>\n",
       "      <td>8714</td>\n",
       "      <td>842</td>\n",
       "      <td>326</td>\n",
       "      <td>1459</td>\n",
       "      <td>2451</td>\n",
       "    </tr>\n",
       "  </tbody>\n",
       "</table>\n",
       "</div>"
      ],
      "text/plain": [
       "           App Category Reviews                Size    Installs   Type  Price  \\\n",
       "count    10841    10841   10841               10841       10841  10840  10841   \n",
       "unique    9660       34    6002                 462          22      3     93   \n",
       "top     ROBLOX   FAMILY       0  Varies with device  1,000,000+   Free      0   \n",
       "freq         9     1972     596                1695        1579  10039  10040   \n",
       "\n",
       "       Content Rating Genres    Last Updated         Current Ver Android Ver  \n",
       "count           10840  10841           10841               10833       10838  \n",
       "unique              6    120            1378                2832          33  \n",
       "top          Everyone  Tools  August 3, 2018  Varies with device  4.1 and up  \n",
       "freq             8714    842             326                1459        2451  "
      ]
     },
     "execution_count": 24,
     "metadata": {},
     "output_type": "execute_result"
    }
   ],
   "source": [
    "df.describe(include = \"object\")"
   ]
  },
  {
   "cell_type": "markdown",
   "id": "4a23855b-3102-4d0c-a361-424e3d8d920c",
   "metadata": {},
   "source": [
    "##### <font color = \"blue\">*The columns that need to be worked upon for model building are :*</font>\n",
    "- Size\n",
    "- Installs\n",
    "- Type\n",
    "- Price\n",
    "- Content Rating\n",
    "- Reviews\n",
    "- Rating"
   ]
  },
  {
   "cell_type": "markdown",
   "id": "1981ee4c-0700-4041-b787-f295dedb79cc",
   "metadata": {},
   "source": [
    "#### 4. Check if there are any duplicate records in the dataset? if any drop them."
   ]
  },
  {
   "cell_type": "code",
   "execution_count": 25,
   "id": "dbaf93ab-a232-42a3-8502-ded4ad01a2b0",
   "metadata": {
    "tags": []
   },
   "outputs": [
    {
     "data": {
      "text/plain": [
       "483"
      ]
     },
     "execution_count": 25,
     "metadata": {},
     "output_type": "execute_result"
    }
   ],
   "source": [
    "# Checking for duplicate records in dataset.\n",
    "df.duplicated().sum()"
   ]
  },
  {
   "cell_type": "code",
   "execution_count": 26,
   "id": "ad7f6084-12f6-43f0-941e-84954c3fc2c1",
   "metadata": {
    "tags": []
   },
   "outputs": [],
   "source": [
    "# There are 483 duplicate rows found.\n",
    "# Dropping duplicates.\n",
    "df.drop_duplicates(inplace = True)"
   ]
  },
  {
   "cell_type": "code",
   "execution_count": 27,
   "id": "7d71210c-1389-47c3-9a5c-cc9d3a4a5809",
   "metadata": {
    "tags": []
   },
   "outputs": [
    {
     "data": {
      "text/plain": [
       "0"
      ]
     },
     "execution_count": 27,
     "metadata": {},
     "output_type": "execute_result"
    }
   ],
   "source": [
    "# No duplicates reamining.\n",
    "df.duplicated().sum()"
   ]
  },
  {
   "cell_type": "markdown",
   "id": "07dcff00-8268-4fd4-acc0-69417ee40e2f",
   "metadata": {},
   "source": [
    "#### 5. Check the unique categories of the column 'Category', Is there any invalid category? If yes, drop them"
   ]
  },
  {
   "cell_type": "code",
   "execution_count": 28,
   "id": "cce69c6d-4bca-4b2e-94ba-85d97c491016",
   "metadata": {
    "tags": []
   },
   "outputs": [
    {
     "data": {
      "text/plain": [
       "array(['ART_AND_DESIGN', 'AUTO_AND_VEHICLES', 'BEAUTY',\n",
       "       'BOOKS_AND_REFERENCE', 'BUSINESS', 'COMICS', 'COMMUNICATION',\n",
       "       'DATING', 'EDUCATION', 'ENTERTAINMENT', 'EVENTS', 'FINANCE',\n",
       "       'FOOD_AND_DRINK', 'HEALTH_AND_FITNESS', 'HOUSE_AND_HOME',\n",
       "       'LIBRARIES_AND_DEMO', 'LIFESTYLE', 'GAME', 'FAMILY', 'MEDICAL',\n",
       "       'SOCIAL', 'SHOPPING', 'PHOTOGRAPHY', 'SPORTS', 'TRAVEL_AND_LOCAL',\n",
       "       'TOOLS', 'PERSONALIZATION', 'PRODUCTIVITY', 'PARENTING', 'WEATHER',\n",
       "       'VIDEO_PLAYERS', 'NEWS_AND_MAGAZINES', 'MAPS_AND_NAVIGATION',\n",
       "       '1.9'], dtype=object)"
      ]
     },
     "execution_count": 28,
     "metadata": {},
     "output_type": "execute_result"
    }
   ],
   "source": [
    "# Checking uniques categories of column category\n",
    "df[\"Category\"].unique()"
   ]
  },
  {
   "cell_type": "code",
   "execution_count": 29,
   "id": "7cbedd65-a98f-4252-a398-e952e688cd86",
   "metadata": {
    "tags": []
   },
   "outputs": [
    {
     "data": {
      "text/plain": [
       "Index([10472], dtype='int64')"
      ]
     },
     "execution_count": 29,
     "metadata": {},
     "output_type": "execute_result"
    }
   ],
   "source": [
    "# \"1.9\" is invalid category of this column.\n",
    "df[df[\"Category\"]==\"1.9\"].index"
   ]
  },
  {
   "cell_type": "code",
   "execution_count": 30,
   "id": "5b6f4d5e-1526-447d-b0e4-5fa44a6b0aa1",
   "metadata": {
    "tags": []
   },
   "outputs": [],
   "source": [
    "# Dropping the invalid category.\n",
    "df.drop(index=10472,inplace = True)"
   ]
  },
  {
   "cell_type": "code",
   "execution_count": 31,
   "id": "f4c9b4a8-73f8-4781-853a-85eac0d4c02b",
   "metadata": {
    "tags": []
   },
   "outputs": [
    {
     "data": {
      "text/plain": [
       "array(['ART_AND_DESIGN', 'AUTO_AND_VEHICLES', 'BEAUTY',\n",
       "       'BOOKS_AND_REFERENCE', 'BUSINESS', 'COMICS', 'COMMUNICATION',\n",
       "       'DATING', 'EDUCATION', 'ENTERTAINMENT', 'EVENTS', 'FINANCE',\n",
       "       'FOOD_AND_DRINK', 'HEALTH_AND_FITNESS', 'HOUSE_AND_HOME',\n",
       "       'LIBRARIES_AND_DEMO', 'LIFESTYLE', 'GAME', 'FAMILY', 'MEDICAL',\n",
       "       'SOCIAL', 'SHOPPING', 'PHOTOGRAPHY', 'SPORTS', 'TRAVEL_AND_LOCAL',\n",
       "       'TOOLS', 'PERSONALIZATION', 'PRODUCTIVITY', 'PARENTING', 'WEATHER',\n",
       "       'VIDEO_PLAYERS', 'NEWS_AND_MAGAZINES', 'MAPS_AND_NAVIGATION'],\n",
       "      dtype=object)"
      ]
     },
     "execution_count": 31,
     "metadata": {},
     "output_type": "execute_result"
    }
   ],
   "source": [
    "# It is dropped.\n",
    "df[\"Category\"].unique()"
   ]
  },
  {
   "cell_type": "markdown",
   "id": "df9eb2cd-8769-4574-99fc-f4c60b31e407",
   "metadata": {},
   "source": [
    "#### 6. Check if there are missing values present in the column Rating, If any? drop them and and create a new column as 'Rating_category' by converting ratings to high and low categories(>3.5 is high rest low).\n"
   ]
  },
  {
   "cell_type": "code",
   "execution_count": 32,
   "id": "eea2d754-7b13-4583-be8e-2e5ac9124c10",
   "metadata": {
    "tags": []
   },
   "outputs": [
    {
     "data": {
      "text/plain": [
       "1465"
      ]
     },
     "execution_count": 32,
     "metadata": {},
     "output_type": "execute_result"
    }
   ],
   "source": [
    "# Checking for missing values present in column \"Rating\".\n",
    "df[\"Rating\"].isnull().sum()"
   ]
  },
  {
   "cell_type": "code",
   "execution_count": 33,
   "id": "be8cfcb7-72d8-4387-8a10-a959f3809040",
   "metadata": {
    "tags": []
   },
   "outputs": [],
   "source": [
    "# 1465 missing values present in Rating column. So, dropping them.\n",
    "df = df.dropna(subset=['Rating'])"
   ]
  },
  {
   "cell_type": "code",
   "execution_count": 34,
   "id": "a73f201b-b079-47e9-80e9-77c602fd495c",
   "metadata": {
    "tags": []
   },
   "outputs": [
    {
     "data": {
      "text/plain": [
       "0"
      ]
     },
     "execution_count": 34,
     "metadata": {},
     "output_type": "execute_result"
    }
   ],
   "source": [
    "df[\"Rating\"].isnull().sum()"
   ]
  },
  {
   "cell_type": "code",
   "execution_count": 35,
   "id": "f365992b-6d40-49ce-bdc8-923624f4c4b9",
   "metadata": {
    "tags": []
   },
   "outputs": [],
   "source": [
    "# create a new column as 'Rating_category' by converting ratings to high and low categories(>3.5 is high rest low).\n",
    "df[\"Rating_category\"] = df[\"Rating\"].map(lambda x : \"high\" if x > 3.5 else \"low\")"
   ]
  },
  {
   "cell_type": "code",
   "execution_count": 36,
   "id": "955e2c60-2d04-4725-8724-19ec2ef3d5eb",
   "metadata": {
    "tags": []
   },
   "outputs": [
    {
     "data": {
      "text/plain": [
       "0        high\n",
       "1        high\n",
       "2        high\n",
       "3        high\n",
       "4        high\n",
       "         ... \n",
       "10834    high\n",
       "10836    high\n",
       "10837    high\n",
       "10839    high\n",
       "10840    high\n",
       "Name: Rating_category, Length: 8892, dtype: object"
      ]
     },
     "execution_count": 36,
     "metadata": {},
     "output_type": "execute_result"
    }
   ],
   "source": [
    "df[\"Rating_category\"]"
   ]
  },
  {
   "cell_type": "markdown",
   "id": "05e75b1e-63e9-4170-836f-170429304f5f",
   "metadata": {},
   "source": [
    "#### 7. Check the distribution of the newly created column 'Rating_category' and comment on the distribution."
   ]
  },
  {
   "cell_type": "code",
   "execution_count": 39,
   "id": "9b9c2a8a-b134-464c-912b-89540a80fabd",
   "metadata": {
    "tags": []
   },
   "outputs": [
    {
     "data": {
      "text/plain": [
       "Rating_category\n",
       "high    90.103464\n",
       "low      9.896536\n",
       "Name: count, dtype: float64"
      ]
     },
     "execution_count": 39,
     "metadata": {},
     "output_type": "execute_result"
    }
   ],
   "source": [
    "# Check the distribution of column 'Rating_category'.\n",
    "(df['Rating_category'].value_counts()/df[\"Rating_category\"].shape[0])*100"
   ]
  },
  {
   "cell_type": "markdown",
   "id": "0f9bd045-caf2-49a4-b230-f24adeeecb83",
   "metadata": {},
   "source": [
    "#### <font color = \"blue\">*inference :*</font>\n",
    "- Almost 90% approximate users rated the apps above 3.5.\n",
    "- Only 10% approximate users rated the apps below 3.5."
   ]
  },
  {
   "cell_type": "markdown",
   "id": "c219b8b4-5590-40ef-af2f-2ba9fe753154",
   "metadata": {},
   "source": [
    "#### 8. Convert the column \"Reviews'' to numeric data type and check the presence of outliers in the column and handle the outliers using a transformation approach.(Hint: Use log transformation)"
   ]
  },
  {
   "cell_type": "code",
   "execution_count": 40,
   "id": "7271ff78-0d87-4eb6-b12d-5fe83f4ee25b",
   "metadata": {
    "tags": []
   },
   "outputs": [],
   "source": [
    "# Convert the column \"Reviews'' to numeric data type\n",
    "df[\"Reviews\"] = pd.to_numeric(df[\"Reviews\"], errors=\"ignore\")"
   ]
  },
  {
   "cell_type": "code",
   "execution_count": 42,
   "id": "c59be64f-80ed-47c9-93c9-654347f1d998",
   "metadata": {
    "tags": []
   },
   "outputs": [
    {
     "data": {
      "text/plain": [
       "dtype('int64')"
      ]
     },
     "execution_count": 42,
     "metadata": {},
     "output_type": "execute_result"
    }
   ],
   "source": [
    "# Converted\n",
    "df[\"Reviews\"].dtypes"
   ]
  },
  {
   "cell_type": "code",
   "execution_count": 47,
   "id": "e2b67e0c-f23a-4ce0-bb25-f1a30bc04cf2",
   "metadata": {
    "tags": []
   },
   "outputs": [],
   "source": [
    "# Dealing with outliers\n",
    "# Calculating IQR, Upper bound and Lower bound to find outliers.\n",
    "Q1 = df['Reviews'].quantile(0.25)\n",
    "Q3 = df['Reviews'].quantile(0.75)\n",
    "IQR = Q3 - Q1\n",
    "UB = Q3 + 1.5 * IQR\n",
    "LB = Q1 - 1.5*IQR"
   ]
  },
  {
   "cell_type": "code",
   "execution_count": 48,
   "id": "5e681ea0-f4ac-4baa-a3aa-b744180c7814",
   "metadata": {
    "tags": []
   },
   "outputs": [
    {
     "data": {
      "text/plain": [
       "1555"
      ]
     },
     "execution_count": 48,
     "metadata": {},
     "output_type": "execute_result"
    }
   ],
   "source": [
    "outliers = (np.where((df[\"Reviews\"] > UB) | (df[\"Reviews\"] <LB))[0])\n",
    "len(outliers)"
   ]
  },
  {
   "cell_type": "markdown",
   "id": "166d165a-3275-4eaa-99dd-b0cb30aafccc",
   "metadata": {},
   "source": [
    "## 1555 outliers present in Reviews column."
   ]
  },
  {
   "cell_type": "code",
   "execution_count": 50,
   "id": "4f0f510b-74bd-4901-a09a-50f4045f286f",
   "metadata": {
    "tags": []
   },
   "outputs": [
    {
     "data": {
      "text/plain": [
       "array([   159,    967,  87510, ...,    603,   1195, 398307], dtype=int64)"
      ]
     },
     "execution_count": 50,
     "metadata": {},
     "output_type": "execute_result"
    }
   ],
   "source": [
    "df[\"Reviews\"].unique()"
   ]
  },
  {
   "cell_type": "code",
   "execution_count": 51,
   "id": "b3e602b7-0102-4bb5-9a31-f49c6efafe59",
   "metadata": {
    "tags": []
   },
   "outputs": [
    {
     "data": {
      "image/png": "[encoded data removed]",
      "text/plain": [
       "<Figure size 300x300 with 1 Axes>"
      ]
     },
     "metadata": {},
     "output_type": "display_data"
    }
   ],
   "source": [
    "# Box plot before removing outliers\n",
    "plt.figure(figsize=(3,3))\n",
    "sns.boxplot(df[\"Reviews\"]);"
   ]
  },
  {
   "cell_type": "code",
   "execution_count": 52,
   "id": "dc7e5690-7562-4091-b45d-337ba4be43ef",
   "metadata": {
    "tags": []
   },
   "outputs": [],
   "source": [
    "# Handling outliers with log transformation.\n",
    "df[\"Reviews\"] = np.log1p(df['Reviews'])"
   ]
  },
  {
   "cell_type": "code",
   "execution_count": 53,
   "id": "3f78209c-fdb3-4095-9aa6-90cb73d57e43",
   "metadata": {
    "tags": []
   },
   "outputs": [
    {
     "data": {
      "image/png": "[encoded data removed]",
      "text/plain": [
       "<Figure size 640x480 with 1 Axes>"
      ]
     },
     "metadata": {},
     "output_type": "display_data"
    }
   ],
   "source": [
    "# Box plot after treating outliers.\n",
    "sns.boxplot(df[\"Reviews\"]);"
   ]
  },
  {
   "cell_type": "markdown",
   "id": "b1786eaf-ba2b-4b00-a304-dad234c7d3b0",
   "metadata": {},
   "source": [
    "## From above boxplot it can be noticed that log transformation supressed the outliers."
   ]
  },
  {
   "cell_type": "markdown",
   "id": "46020bb4-c850-45af-8b31-06c5dd48bc28",
   "metadata": {},
   "source": [
    "#### 9. The column 'Size' contains alphanumeric values, treat the non numeric data and convert the column into suitable data type. (hint: Replace M with 1 million and K with 1 thousand, and drop the entries where size='Varies with device')"
   ]
  },
  {
   "cell_type": "code",
   "execution_count": 54,
   "id": "e6a4b471-ca2a-4903-b60f-3c754c8c5316",
   "metadata": {
    "tags": []
   },
   "outputs": [],
   "source": [
    "# Searching for rows which contains invalid values in column size.\n",
    "# \"Varies with device is invalid value of column size\"\n",
    "index_size = df[df[\"Size\"]==\"Varies with device\"].index"
   ]
  },
  {
   "cell_type": "code",
   "execution_count": 55,
   "id": "756a0373-7b9c-4193-8a7d-8a92121b0b62",
   "metadata": {
    "tags": []
   },
   "outputs": [],
   "source": [
    "# Dropping rows containging invalid values.\n",
    "df.drop(index = index_size, inplace = True)"
   ]
  },
  {
   "cell_type": "code",
   "execution_count": 56,
   "id": "5427635e-5b1a-4cdc-a2f8-ec5ebdc6ae4d",
   "metadata": {
    "tags": []
   },
   "outputs": [
    {
     "data": {
      "text/plain": [
       "(7424, 14)"
      ]
     },
     "execution_count": 56,
     "metadata": {},
     "output_type": "execute_result"
    }
   ],
   "source": [
    "# Rows are reduced.\n",
    "df.shape"
   ]
  },
  {
   "cell_type": "code",
   "execution_count": 57,
   "id": "f285c052-344c-43cf-ac34-a2f9d2115d35",
   "metadata": {
    "tags": []
   },
   "outputs": [],
   "source": [
    "# Replacing M with 1 million and K with 1000 in column Size.\n",
    "df[\"Size\"] = df[\"Size\"].replace({\"M\" : \"*1000000\", \"k\" : \"*1000\"},regex = True).map(eval)"
   ]
  },
  {
   "cell_type": "code",
   "execution_count": 59,
   "id": "2cc5dfa9-d37d-4e74-978f-214cc12a66c4",
   "metadata": {
    "tags": []
   },
   "outputs": [
    {
     "data": {
      "text/plain": [
       "0        19000000.0\n",
       "1        14000000.0\n",
       "2         8700000.0\n",
       "3        25000000.0\n",
       "4         2800000.0\n",
       "            ...    \n",
       "10833      619000.0\n",
       "10834     2600000.0\n",
       "10836    53000000.0\n",
       "10837     3600000.0\n",
       "10840    19000000.0\n",
       "Name: Size, Length: 7424, dtype: float64"
      ]
     },
     "execution_count": 59,
     "metadata": {},
     "output_type": "execute_result"
    }
   ],
   "source": [
    "# Replaced\n",
    "df[\"Size\"]"
   ]
  },
  {
   "cell_type": "markdown",
   "id": "7e2d66eb-06ff-4eca-a692-3f31e5c02d69",
   "metadata": {},
   "source": [
    "#### 10. Check the column 'Installs', treat the unwanted characters and convert the column into a suitable data type."
   ]
  },
  {
   "cell_type": "code",
   "execution_count": 60,
   "id": "f2b7338c-0d44-4a79-a45f-94cf377b4c9e",
   "metadata": {
    "tags": []
   },
   "outputs": [],
   "source": [
    "# Treating unwanted characters in column \"Installs\" like removing \",\" , \"+\" and converting column into int datatype.\n",
    "df[\"Installs\"] = df[\"Installs\"].str.replace(\",\",\"\").str.replace(\"+\",\"\").astype(\"int\")"
   ]
  },
  {
   "cell_type": "code",
   "execution_count": 61,
   "id": "07985ed0-6dde-460d-8a4c-3c83a779e037",
   "metadata": {
    "tags": []
   },
   "outputs": [
    {
     "data": {
      "text/plain": [
       "Installs\n",
       "1000000       1230\n",
       "100000        1003\n",
       "10000          949\n",
       "10000000       762\n",
       "1000           675\n",
       "5000000        493\n",
       "500000         471\n",
       "50000          432\n",
       "5000           414\n",
       "100            297\n",
       "500            195\n",
       "100000000      192\n",
       "50000000       144\n",
       "10              67\n",
       "50              56\n",
       "500000000       24\n",
       "5                9\n",
       "1000000000       8\n",
       "1                3\n",
       "Name: count, dtype: int64"
      ]
     },
     "execution_count": 61,
     "metadata": {},
     "output_type": "execute_result"
    }
   ],
   "source": [
    "df[\"Installs\"].value_counts()"
   ]
  },
  {
   "cell_type": "markdown",
   "id": "772a0b3c-4d55-4fcd-ab83-5cdd77141ed4",
   "metadata": {},
   "source": [
    "#### 11. Check the column 'Price' , remove the unwanted characters and convert the column into a suitable data type."
   ]
  },
  {
   "cell_type": "code",
   "execution_count": 62,
   "id": "fe10f781-83ac-44ef-979b-0594c320a397",
   "metadata": {
    "tags": []
   },
   "outputs": [],
   "source": [
    "# Removing $ from price and converting its data type to float.\n",
    "df[\"Price\"] = df[\"Price\"].str.replace(\"$\", \"\").astype(\"float\")"
   ]
  },
  {
   "cell_type": "code",
   "execution_count": 63,
   "id": "e3b47561-36ed-40b1-a2ad-b94addd09fae",
   "metadata": {
    "tags": []
   },
   "outputs": [
    {
     "data": {
      "text/plain": [
       "Price\n",
       "0.00      6877\n",
       "0.99       104\n",
       "2.99        98\n",
       "4.99        61\n",
       "1.99        53\n",
       "          ... \n",
       "6.49         1\n",
       "1.29         1\n",
       "299.99       1\n",
       "379.99       1\n",
       "1.20         1\n",
       "Name: count, Length: 68, dtype: int64"
      ]
     },
     "execution_count": 63,
     "metadata": {},
     "output_type": "execute_result"
    }
   ],
   "source": [
    "# Done\n",
    "df[\"Price\"].value_counts()"
   ]
  },
  {
   "cell_type": "markdown",
   "id": "f680579c-4e67-4301-9f6f-8ff81d7fde18",
   "metadata": {},
   "source": [
    "#### 12. Drop the columns which you think redundant for the analysis.(suggestion: drop column 'rating', since we created a new feature from it (i.e. rating_category) and the columns 'App', 'Rating' ,'Genres','Last Updated', 'Current Ver','Android Ver' columns since which are redundant for our analysis)"
   ]
  },
  {
   "cell_type": "code",
   "execution_count": 64,
   "id": "d088f0fe-98d1-41c7-b718-b457e1393461",
   "metadata": {},
   "outputs": [
    {
     "data": {
      "text/html": [
       "<div>\n",
       "<style scoped>\n",
       "    .dataframe tbody tr th:only-of-type {\n",
       "        vertical-align: middle;\n",
       "    }\n",
       "\n",
       "    .dataframe tbody tr th {\n",
       "        vertical-align: top;\n",
       "    }\n",
       "\n",
       "    .dataframe thead th {\n",
       "        text-align: right;\n",
       "    }\n",
       "</style>\n",
       "<table border=\"1\" class=\"dataframe\">\n",
       "  <thead>\n",
       "    <tr style=\"text-align: right;\">\n",
       "      <th></th>\n",
       "      <th>Category</th>\n",
       "      <th>Reviews</th>\n",
       "      <th>Size</th>\n",
       "      <th>Installs</th>\n",
       "      <th>Type</th>\n",
       "      <th>Price</th>\n",
       "      <th>Content Rating</th>\n",
       "      <th>Rating_category</th>\n",
       "    </tr>\n",
       "  </thead>\n",
       "  <tbody>\n",
       "    <tr>\n",
       "      <th>0</th>\n",
       "      <td>ART_AND_DESIGN</td>\n",
       "      <td>5.075174</td>\n",
       "      <td>19000000.0</td>\n",
       "      <td>10000</td>\n",
       "      <td>Free</td>\n",
       "      <td>0.0</td>\n",
       "      <td>Everyone</td>\n",
       "      <td>high</td>\n",
       "    </tr>\n",
       "    <tr>\n",
       "      <th>1</th>\n",
       "      <td>ART_AND_DESIGN</td>\n",
       "      <td>6.875232</td>\n",
       "      <td>14000000.0</td>\n",
       "      <td>500000</td>\n",
       "      <td>Free</td>\n",
       "      <td>0.0</td>\n",
       "      <td>Everyone</td>\n",
       "      <td>high</td>\n",
       "    </tr>\n",
       "  </tbody>\n",
       "</table>\n",
       "</div>"
      ],
      "text/plain": [
       "         Category   Reviews        Size  Installs  Type  Price Content Rating  \\\n",
       "0  ART_AND_DESIGN  5.075174  19000000.0     10000  Free    0.0       Everyone   \n",
       "1  ART_AND_DESIGN  6.875232  14000000.0    500000  Free    0.0       Everyone   \n",
       "\n",
       "  Rating_category  \n",
       "0            high  \n",
       "1            high  "
      ]
     },
     "execution_count": 64,
     "metadata": {},
     "output_type": "execute_result"
    }
   ],
   "source": [
    "# Dropping the column which are not suitable for analysis.\n",
    "drop_columns = ['Rating', 'App', 'Genres', 'Last Updated', 'Current Ver', 'Android Ver']\n",
    "df.drop(columns=drop_columns, inplace=True)\n",
    "df.head(2)"
   ]
  },
  {
   "cell_type": "markdown",
   "id": "e51b9093-1568-4a8d-81df-adb897c9dcf8",
   "metadata": {},
   "source": [
    "#### 13. Encode the categorical columns."
   ]
  },
  {
   "cell_type": "markdown",
   "id": "9a7f22ff-e518-4da3-b201-322f20240f7b",
   "metadata": {
    "tags": []
   },
   "source": [
    "#### creating two datasets one having only numeric columns and other having only categorical columns. "
   ]
  },
  {
   "cell_type": "code",
   "execution_count": 65,
   "id": "c5f4a768-adcb-453a-8b6b-55861c797d71",
   "metadata": {
    "tags": []
   },
   "outputs": [],
   "source": [
    "# df_num having only numeric columns.\n",
    "df_num = df.select_dtypes(exclude = \"object\")"
   ]
  },
  {
   "cell_type": "code",
   "execution_count": 66,
   "id": "031348be-af72-4d7f-8668-578c13c05a56",
   "metadata": {
    "tags": []
   },
   "outputs": [],
   "source": [
    "# Reseting its index\n",
    "df_num.reset_index(drop = True, inplace = True)"
   ]
  },
  {
   "cell_type": "code",
   "execution_count": 67,
   "id": "42c8ea5a-3e5c-4874-8a8e-9b599235c276",
   "metadata": {
    "tags": []
   },
   "outputs": [],
   "source": [
    "# df_cat having only categorical columns.\n",
    "df_cat = df.select_dtypes(include = \"object\")"
   ]
  },
  {
   "cell_type": "code",
   "execution_count": 68,
   "id": "0d0c3a5b-a932-4b6d-937b-d2a754e51875",
   "metadata": {
    "tags": []
   },
   "outputs": [
    {
     "data": {
      "text/html": [
       "<div>\n",
       "<style scoped>\n",
       "    .dataframe tbody tr th:only-of-type {\n",
       "        vertical-align: middle;\n",
       "    }\n",
       "\n",
       "    .dataframe tbody tr th {\n",
       "        vertical-align: top;\n",
       "    }\n",
       "\n",
       "    .dataframe thead th {\n",
       "        text-align: right;\n",
       "    }\n",
       "</style>\n",
       "<table border=\"1\" class=\"dataframe\">\n",
       "  <thead>\n",
       "    <tr style=\"text-align: right;\">\n",
       "      <th></th>\n",
       "      <th>Category</th>\n",
       "      <th>Type</th>\n",
       "      <th>Content Rating</th>\n",
       "      <th>Rating_category</th>\n",
       "    </tr>\n",
       "  </thead>\n",
       "  <tbody>\n",
       "    <tr>\n",
       "      <th>0</th>\n",
       "      <td>0.0</td>\n",
       "      <td>0.0</td>\n",
       "      <td>1.0</td>\n",
       "      <td>0.0</td>\n",
       "    </tr>\n",
       "    <tr>\n",
       "      <th>1</th>\n",
       "      <td>0.0</td>\n",
       "      <td>0.0</td>\n",
       "      <td>1.0</td>\n",
       "      <td>0.0</td>\n",
       "    </tr>\n",
       "    <tr>\n",
       "      <th>2</th>\n",
       "      <td>0.0</td>\n",
       "      <td>0.0</td>\n",
       "      <td>1.0</td>\n",
       "      <td>0.0</td>\n",
       "    </tr>\n",
       "    <tr>\n",
       "      <th>3</th>\n",
       "      <td>0.0</td>\n",
       "      <td>0.0</td>\n",
       "      <td>4.0</td>\n",
       "      <td>0.0</td>\n",
       "    </tr>\n",
       "    <tr>\n",
       "      <th>4</th>\n",
       "      <td>0.0</td>\n",
       "      <td>0.0</td>\n",
       "      <td>1.0</td>\n",
       "      <td>0.0</td>\n",
       "    </tr>\n",
       "    <tr>\n",
       "      <th>...</th>\n",
       "      <td>...</td>\n",
       "      <td>...</td>\n",
       "      <td>...</td>\n",
       "      <td>...</td>\n",
       "    </tr>\n",
       "    <tr>\n",
       "      <th>7419</th>\n",
       "      <td>3.0</td>\n",
       "      <td>0.0</td>\n",
       "      <td>1.0</td>\n",
       "      <td>0.0</td>\n",
       "    </tr>\n",
       "    <tr>\n",
       "      <th>7420</th>\n",
       "      <td>11.0</td>\n",
       "      <td>0.0</td>\n",
       "      <td>1.0</td>\n",
       "      <td>0.0</td>\n",
       "    </tr>\n",
       "    <tr>\n",
       "      <th>7421</th>\n",
       "      <td>11.0</td>\n",
       "      <td>0.0</td>\n",
       "      <td>1.0</td>\n",
       "      <td>0.0</td>\n",
       "    </tr>\n",
       "    <tr>\n",
       "      <th>7422</th>\n",
       "      <td>11.0</td>\n",
       "      <td>0.0</td>\n",
       "      <td>1.0</td>\n",
       "      <td>0.0</td>\n",
       "    </tr>\n",
       "    <tr>\n",
       "      <th>7423</th>\n",
       "      <td>18.0</td>\n",
       "      <td>0.0</td>\n",
       "      <td>1.0</td>\n",
       "      <td>0.0</td>\n",
       "    </tr>\n",
       "  </tbody>\n",
       "</table>\n",
       "<p>7424 rows × 4 columns</p>\n",
       "</div>"
      ],
      "text/plain": [
       "      Category  Type  Content Rating  Rating_category\n",
       "0          0.0   0.0             1.0              0.0\n",
       "1          0.0   0.0             1.0              0.0\n",
       "2          0.0   0.0             1.0              0.0\n",
       "3          0.0   0.0             4.0              0.0\n",
       "4          0.0   0.0             1.0              0.0\n",
       "...        ...   ...             ...              ...\n",
       "7419       3.0   0.0             1.0              0.0\n",
       "7420      11.0   0.0             1.0              0.0\n",
       "7421      11.0   0.0             1.0              0.0\n",
       "7422      11.0   0.0             1.0              0.0\n",
       "7423      18.0   0.0             1.0              0.0\n",
       "\n",
       "[7424 rows x 4 columns]"
      ]
     },
     "execution_count": 68,
     "metadata": {},
     "output_type": "execute_result"
    }
   ],
   "source": [
    "# Encoding the Categorical columns by sklearn ordinal encoder.\n",
    "from sklearn.preprocessing import OrdinalEncoder\n",
    "oe = OrdinalEncoder()\n",
    "oe.fit(df_cat)\n",
    "df_cat = pd.DataFrame(oe.transform(df_cat), columns = df_cat.columns)\n",
    "df_cat"
   ]
  },
  {
   "cell_type": "code",
   "execution_count": 69,
   "id": "0028b8ef-74c3-412d-a8ef-f3878986312f",
   "metadata": {
    "tags": []
   },
   "outputs": [],
   "source": [
    "# Now concatinating both df_num and df_cat.\n",
    "df1 = pd.concat((df_num, df_cat), axis = 1)"
   ]
  },
  {
   "cell_type": "code",
   "execution_count": 70,
   "id": "405b0823-b052-4054-b296-18c2a4d718ce",
   "metadata": {
    "tags": []
   },
   "outputs": [
    {
     "data": {
      "text/html": [
       "<div>\n",
       "<style scoped>\n",
       "    .dataframe tbody tr th:only-of-type {\n",
       "        vertical-align: middle;\n",
       "    }\n",
       "\n",
       "    .dataframe tbody tr th {\n",
       "        vertical-align: top;\n",
       "    }\n",
       "\n",
       "    .dataframe thead th {\n",
       "        text-align: right;\n",
       "    }\n",
       "</style>\n",
       "<table border=\"1\" class=\"dataframe\">\n",
       "  <thead>\n",
       "    <tr style=\"text-align: right;\">\n",
       "      <th></th>\n",
       "      <th>Reviews</th>\n",
       "      <th>Size</th>\n",
       "      <th>Installs</th>\n",
       "      <th>Price</th>\n",
       "      <th>Category</th>\n",
       "      <th>Type</th>\n",
       "      <th>Content Rating</th>\n",
       "      <th>Rating_category</th>\n",
       "    </tr>\n",
       "  </thead>\n",
       "  <tbody>\n",
       "    <tr>\n",
       "      <th>0</th>\n",
       "      <td>5.075174</td>\n",
       "      <td>19000000.0</td>\n",
       "      <td>10000</td>\n",
       "      <td>0.0</td>\n",
       "      <td>0.0</td>\n",
       "      <td>0.0</td>\n",
       "      <td>1.0</td>\n",
       "      <td>0.0</td>\n",
       "    </tr>\n",
       "    <tr>\n",
       "      <th>1</th>\n",
       "      <td>6.875232</td>\n",
       "      <td>14000000.0</td>\n",
       "      <td>500000</td>\n",
       "      <td>0.0</td>\n",
       "      <td>0.0</td>\n",
       "      <td>0.0</td>\n",
       "      <td>1.0</td>\n",
       "      <td>0.0</td>\n",
       "    </tr>\n",
       "    <tr>\n",
       "      <th>2</th>\n",
       "      <td>11.379520</td>\n",
       "      <td>8700000.0</td>\n",
       "      <td>5000000</td>\n",
       "      <td>0.0</td>\n",
       "      <td>0.0</td>\n",
       "      <td>0.0</td>\n",
       "      <td>1.0</td>\n",
       "      <td>0.0</td>\n",
       "    </tr>\n",
       "    <tr>\n",
       "      <th>3</th>\n",
       "      <td>12.281389</td>\n",
       "      <td>25000000.0</td>\n",
       "      <td>50000000</td>\n",
       "      <td>0.0</td>\n",
       "      <td>0.0</td>\n",
       "      <td>0.0</td>\n",
       "      <td>4.0</td>\n",
       "      <td>0.0</td>\n",
       "    </tr>\n",
       "    <tr>\n",
       "      <th>4</th>\n",
       "      <td>6.875232</td>\n",
       "      <td>2800000.0</td>\n",
       "      <td>100000</td>\n",
       "      <td>0.0</td>\n",
       "      <td>0.0</td>\n",
       "      <td>0.0</td>\n",
       "      <td>1.0</td>\n",
       "      <td>0.0</td>\n",
       "    </tr>\n",
       "    <tr>\n",
       "      <th>...</th>\n",
       "      <td>...</td>\n",
       "      <td>...</td>\n",
       "      <td>...</td>\n",
       "      <td>...</td>\n",
       "      <td>...</td>\n",
       "      <td>...</td>\n",
       "      <td>...</td>\n",
       "      <td>...</td>\n",
       "    </tr>\n",
       "    <tr>\n",
       "      <th>7419</th>\n",
       "      <td>3.806662</td>\n",
       "      <td>619000.0</td>\n",
       "      <td>1000</td>\n",
       "      <td>0.0</td>\n",
       "      <td>3.0</td>\n",
       "      <td>0.0</td>\n",
       "      <td>1.0</td>\n",
       "      <td>0.0</td>\n",
       "    </tr>\n",
       "    <tr>\n",
       "      <th>7420</th>\n",
       "      <td>2.079442</td>\n",
       "      <td>2600000.0</td>\n",
       "      <td>500</td>\n",
       "      <td>0.0</td>\n",
       "      <td>11.0</td>\n",
       "      <td>0.0</td>\n",
       "      <td>1.0</td>\n",
       "      <td>0.0</td>\n",
       "    </tr>\n",
       "    <tr>\n",
       "      <th>7421</th>\n",
       "      <td>3.663562</td>\n",
       "      <td>53000000.0</td>\n",
       "      <td>5000</td>\n",
       "      <td>0.0</td>\n",
       "      <td>11.0</td>\n",
       "      <td>0.0</td>\n",
       "      <td>1.0</td>\n",
       "      <td>0.0</td>\n",
       "    </tr>\n",
       "    <tr>\n",
       "      <th>7422</th>\n",
       "      <td>1.609438</td>\n",
       "      <td>3600000.0</td>\n",
       "      <td>100</td>\n",
       "      <td>0.0</td>\n",
       "      <td>11.0</td>\n",
       "      <td>0.0</td>\n",
       "      <td>1.0</td>\n",
       "      <td>0.0</td>\n",
       "    </tr>\n",
       "    <tr>\n",
       "      <th>7423</th>\n",
       "      <td>12.894981</td>\n",
       "      <td>19000000.0</td>\n",
       "      <td>10000000</td>\n",
       "      <td>0.0</td>\n",
       "      <td>18.0</td>\n",
       "      <td>0.0</td>\n",
       "      <td>1.0</td>\n",
       "      <td>0.0</td>\n",
       "    </tr>\n",
       "  </tbody>\n",
       "</table>\n",
       "<p>7424 rows × 8 columns</p>\n",
       "</div>"
      ],
      "text/plain": [
       "        Reviews        Size  Installs  Price  Category  Type  Content Rating  \\\n",
       "0      5.075174  19000000.0     10000    0.0       0.0   0.0             1.0   \n",
       "1      6.875232  14000000.0    500000    0.0       0.0   0.0             1.0   \n",
       "2     11.379520   8700000.0   5000000    0.0       0.0   0.0             1.0   \n",
       "3     12.281389  25000000.0  50000000    0.0       0.0   0.0             4.0   \n",
       "4      6.875232   2800000.0    100000    0.0       0.0   0.0             1.0   \n",
       "...         ...         ...       ...    ...       ...   ...             ...   \n",
       "7419   3.806662    619000.0      1000    0.0       3.0   0.0             1.0   \n",
       "7420   2.079442   2600000.0       500    0.0      11.0   0.0             1.0   \n",
       "7421   3.663562  53000000.0      5000    0.0      11.0   0.0             1.0   \n",
       "7422   1.609438   3600000.0       100    0.0      11.0   0.0             1.0   \n",
       "7423  12.894981  19000000.0  10000000    0.0      18.0   0.0             1.0   \n",
       "\n",
       "      Rating_category  \n",
       "0                 0.0  \n",
       "1                 0.0  \n",
       "2                 0.0  \n",
       "3                 0.0  \n",
       "4                 0.0  \n",
       "...               ...  \n",
       "7419              0.0  \n",
       "7420              0.0  \n",
       "7421              0.0  \n",
       "7422              0.0  \n",
       "7423              0.0  \n",
       "\n",
       "[7424 rows x 8 columns]"
      ]
     },
     "execution_count": 70,
     "metadata": {},
     "output_type": "execute_result"
    }
   ],
   "source": [
    "df1"
   ]
  },
  {
   "cell_type": "markdown",
   "id": "b5ef6ac1-d8ad-4047-8db5-42eee45099ff",
   "metadata": {},
   "source": [
    "#### 14. Segregate the target and independent features (Hint: Use Rating_category as the target)."
   ]
  },
  {
   "cell_type": "code",
   "execution_count": 71,
   "id": "a058e039-dd1c-49c4-860a-2621617a12db",
   "metadata": {
    "tags": []
   },
   "outputs": [],
   "source": [
    "# Segregate the target and independent features.\n",
    "X = df1.drop(columns = \"Rating_category\")\n",
    "y = df1[[\"Rating_category\"]]"
   ]
  },
  {
   "cell_type": "code",
   "execution_count": 72,
   "id": "248151f1-a7fb-44ed-8211-4b65465c9615",
   "metadata": {
    "tags": []
   },
   "outputs": [
    {
     "data": {
      "text/plain": [
       "(        Reviews        Size  Installs  Price  Category  Type  Content Rating\n",
       " 0      5.075174  19000000.0     10000    0.0       0.0   0.0             1.0\n",
       " 1      6.875232  14000000.0    500000    0.0       0.0   0.0             1.0\n",
       " 2     11.379520   8700000.0   5000000    0.0       0.0   0.0             1.0\n",
       " 3     12.281389  25000000.0  50000000    0.0       0.0   0.0             4.0\n",
       " 4      6.875232   2800000.0    100000    0.0       0.0   0.0             1.0\n",
       " ...         ...         ...       ...    ...       ...   ...             ...\n",
       " 7419   3.806662    619000.0      1000    0.0       3.0   0.0             1.0\n",
       " 7420   2.079442   2600000.0       500    0.0      11.0   0.0             1.0\n",
       " 7421   3.663562  53000000.0      5000    0.0      11.0   0.0             1.0\n",
       " 7422   1.609438   3600000.0       100    0.0      11.0   0.0             1.0\n",
       " 7423  12.894981  19000000.0  10000000    0.0      18.0   0.0             1.0\n",
       " \n",
       " [7424 rows x 7 columns],\n",
       "       Rating_category\n",
       " 0                 0.0\n",
       " 1                 0.0\n",
       " 2                 0.0\n",
       " 3                 0.0\n",
       " 4                 0.0\n",
       " ...               ...\n",
       " 7419              0.0\n",
       " 7420              0.0\n",
       " 7421              0.0\n",
       " 7422              0.0\n",
       " 7423              0.0\n",
       " \n",
       " [7424 rows x 1 columns])"
      ]
     },
     "execution_count": 72,
     "metadata": {},
     "output_type": "execute_result"
    }
   ],
   "source": [
    "X,y"
   ]
  },
  {
   "cell_type": "markdown",
   "id": "05f7d836-0cd5-49c5-9449-119746f05295",
   "metadata": {},
   "source": [
    "#### 15. Split the dataset into train and test."
   ]
  },
  {
   "cell_type": "code",
   "execution_count": 73,
   "id": "3d1aead2-c225-4b66-8c52-17c4981d87ec",
   "metadata": {
    "tags": []
   },
   "outputs": [],
   "source": [
    "# Split the dataset into train and test.\n",
    "from sklearn.model_selection import train_test_split\n",
    "X_train, X_test, y_train, y_test = train_test_split(X, y, random_state=555)"
   ]
  },
  {
   "cell_type": "markdown",
   "id": "f43c8082-b722-49e2-bc25-84acb6b1cb09",
   "metadata": {},
   "source": [
    "#### 16. Standardize the data, so that the values are within a particular range."
   ]
  },
  {
   "cell_type": "code",
   "execution_count": 82,
   "id": "9cc58ae5-87db-4abb-bdb5-945d7e741261",
   "metadata": {
    "tags": []
   },
   "outputs": [],
   "source": [
    "# Standardizing the data by sklearn MinMaxScaler.\n",
    "from sklearn.preprocessing import MinMaxScaler\n",
    "scaler = MinMaxScaler()\n",
    "scaler.fit(X_train)\n",
    "X_train_scaled = pd.DataFrame(scaler.transform(X_train)) \n",
    "X_test_scaled = pd.DataFrame(scaler.transform(X_test)) \n",
    "X_train_scaled.columns = X_train.columns\n",
    "X_test_scaled.columns = X_test.columns"
   ]
  },
  {
   "cell_type": "code",
   "execution_count": 83,
   "id": "d7ebe25b-eaa8-41cc-aba0-46bb2b3a9a5f",
   "metadata": {
    "tags": []
   },
   "outputs": [
    {
     "data": {
      "text/html": [
       "<div>\n",
       "<style scoped>\n",
       "    .dataframe tbody tr th:only-of-type {\n",
       "        vertical-align: middle;\n",
       "    }\n",
       "\n",
       "    .dataframe tbody tr th {\n",
       "        vertical-align: top;\n",
       "    }\n",
       "\n",
       "    .dataframe thead th {\n",
       "        text-align: right;\n",
       "    }\n",
       "</style>\n",
       "<table border=\"1\" class=\"dataframe\">\n",
       "  <thead>\n",
       "    <tr style=\"text-align: right;\">\n",
       "      <th></th>\n",
       "      <th>Reviews</th>\n",
       "      <th>Size</th>\n",
       "      <th>Installs</th>\n",
       "      <th>Price</th>\n",
       "      <th>Category</th>\n",
       "      <th>Type</th>\n",
       "      <th>Content Rating</th>\n",
       "    </tr>\n",
       "  </thead>\n",
       "  <tbody>\n",
       "    <tr>\n",
       "      <th>0</th>\n",
       "      <td>0.453198</td>\n",
       "      <td>0.239916</td>\n",
       "      <td>4.999900e-05</td>\n",
       "      <td>0.0</td>\n",
       "      <td>0.37500</td>\n",
       "      <td>0.0</td>\n",
       "      <td>0.2</td>\n",
       "    </tr>\n",
       "    <tr>\n",
       "      <th>1</th>\n",
       "      <td>0.129808</td>\n",
       "      <td>0.023893</td>\n",
       "      <td>9.990000e-07</td>\n",
       "      <td>0.0</td>\n",
       "      <td>0.78125</td>\n",
       "      <td>0.0</td>\n",
       "      <td>0.2</td>\n",
       "    </tr>\n",
       "    <tr>\n",
       "      <th>2</th>\n",
       "      <td>0.302539</td>\n",
       "      <td>0.006651</td>\n",
       "      <td>9.999000e-06</td>\n",
       "      <td>0.0</td>\n",
       "      <td>0.59375</td>\n",
       "      <td>0.0</td>\n",
       "      <td>0.2</td>\n",
       "    </tr>\n",
       "    <tr>\n",
       "      <th>3</th>\n",
       "      <td>0.544860</td>\n",
       "      <td>0.469942</td>\n",
       "      <td>4.999999e-03</td>\n",
       "      <td>0.0</td>\n",
       "      <td>0.81250</td>\n",
       "      <td>0.0</td>\n",
       "      <td>0.2</td>\n",
       "    </tr>\n",
       "    <tr>\n",
       "      <th>4</th>\n",
       "      <td>0.633298</td>\n",
       "      <td>0.058896</td>\n",
       "      <td>4.999999e-03</td>\n",
       "      <td>0.0</td>\n",
       "      <td>0.09375</td>\n",
       "      <td>0.0</td>\n",
       "      <td>0.2</td>\n",
       "    </tr>\n",
       "    <tr>\n",
       "      <th>...</th>\n",
       "      <td>...</td>\n",
       "      <td>...</td>\n",
       "      <td>...</td>\n",
       "      <td>...</td>\n",
       "      <td>...</td>\n",
       "      <td>...</td>\n",
       "      <td>...</td>\n",
       "    </tr>\n",
       "    <tr>\n",
       "      <th>5563</th>\n",
       "      <td>0.528844</td>\n",
       "      <td>0.021892</td>\n",
       "      <td>9.999990e-04</td>\n",
       "      <td>0.0</td>\n",
       "      <td>0.18750</td>\n",
       "      <td>0.0</td>\n",
       "      <td>0.2</td>\n",
       "    </tr>\n",
       "    <tr>\n",
       "      <th>5564</th>\n",
       "      <td>0.608893</td>\n",
       "      <td>0.077899</td>\n",
       "      <td>4.999999e-03</td>\n",
       "      <td>0.0</td>\n",
       "      <td>0.43750</td>\n",
       "      <td>0.0</td>\n",
       "      <td>0.2</td>\n",
       "    </tr>\n",
       "    <tr>\n",
       "      <th>5565</th>\n",
       "      <td>0.707994</td>\n",
       "      <td>0.269920</td>\n",
       "      <td>5.000000e-02</td>\n",
       "      <td>0.0</td>\n",
       "      <td>0.43750</td>\n",
       "      <td>0.0</td>\n",
       "      <td>0.8</td>\n",
       "    </tr>\n",
       "    <tr>\n",
       "      <th>5566</th>\n",
       "      <td>0.064904</td>\n",
       "      <td>0.017892</td>\n",
       "      <td>4.000000e-09</td>\n",
       "      <td>0.0</td>\n",
       "      <td>0.84375</td>\n",
       "      <td>0.0</td>\n",
       "      <td>0.2</td>\n",
       "    </tr>\n",
       "    <tr>\n",
       "      <th>5567</th>\n",
       "      <td>0.737360</td>\n",
       "      <td>0.489944</td>\n",
       "      <td>9.999999e-03</td>\n",
       "      <td>0.0</td>\n",
       "      <td>0.43750</td>\n",
       "      <td>0.0</td>\n",
       "      <td>0.4</td>\n",
       "    </tr>\n",
       "  </tbody>\n",
       "</table>\n",
       "<p>5568 rows × 7 columns</p>\n",
       "</div>"
      ],
      "text/plain": [
       "       Reviews      Size      Installs  Price  Category  Type  Content Rating\n",
       "0     0.453198  0.239916  4.999900e-05    0.0   0.37500   0.0             0.2\n",
       "1     0.129808  0.023893  9.990000e-07    0.0   0.78125   0.0             0.2\n",
       "2     0.302539  0.006651  9.999000e-06    0.0   0.59375   0.0             0.2\n",
       "3     0.544860  0.469942  4.999999e-03    0.0   0.81250   0.0             0.2\n",
       "4     0.633298  0.058896  4.999999e-03    0.0   0.09375   0.0             0.2\n",
       "...        ...       ...           ...    ...       ...   ...             ...\n",
       "5563  0.528844  0.021892  9.999990e-04    0.0   0.18750   0.0             0.2\n",
       "5564  0.608893  0.077899  4.999999e-03    0.0   0.43750   0.0             0.2\n",
       "5565  0.707994  0.269920  5.000000e-02    0.0   0.43750   0.0             0.8\n",
       "5566  0.064904  0.017892  4.000000e-09    0.0   0.84375   0.0             0.2\n",
       "5567  0.737360  0.489944  9.999999e-03    0.0   0.43750   0.0             0.4\n",
       "\n",
       "[5568 rows x 7 columns]"
      ]
     },
     "execution_count": 83,
     "metadata": {},
     "output_type": "execute_result"
    }
   ],
   "source": [
    "X_train_scaled"
   ]
  },
  {
   "cell_type": "markdown",
   "id": "3a7585e9-8e04-4709-893b-3240fe7a7164",
   "metadata": {},
   "source": [
    "                                    End\n",
    "----------------------------------------------------------------"
   ]
  }
 ],
 "metadata": {
  "kernelspec": {
   "display_name": "Python 3 (ipykernel)",
   "language": "python",
   "name": "python3"
  },
  "language_info": {
   "codemirror_mode": {
    "name": "ipython",
    "version": 3
   },
   "file_extension": ".py",
   "mimetype": "text/x-python",
   "name": "python",
   "nbconvert_exporter": "python",
   "pygments_lexer": "ipython3",
   "version": "3.11.5"
  }
 },
 "nbformat": 4,
 "nbformat_minor": 5
}
